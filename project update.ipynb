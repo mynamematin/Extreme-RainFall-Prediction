{
 "cells": [
  {
   "cell_type": "markdown",
   "id": "c0f54807",
   "metadata": {},
   "source": [
    "### Code for Marine heatwave at coordinate(lat,lon)"
   ]
  },
  {
   "cell_type": "code",
   "execution_count": 1,
   "id": "28e0aa91",
   "metadata": {},
   "outputs": [],
   "source": [
    "import numpy as np\n",
    "import pandas as pd\n",
    "import xarray as xr\n",
    "import netCDF4 as nc"
   ]
  },
  {
   "cell_type": "code",
   "execution_count": 3,
   "id": "f626aca9",
   "metadata": {},
   "outputs": [],
   "source": [
    "def mhw(u,v):\n",
    "    dataset = xr.open_dataset(\"subset.nc\", engine=\"netcdf4\")\n",
    "    \n",
    "    Time=dataset.sst.time[:14368].data      #1D ##removin year 2021 from the data\n",
    "    Latitude=dataset.sst.lat.data     #1D\n",
    "    Longitude=dataset.sst.lon.data    #1D\n",
    "    sea_surface_temp=dataset.sst.data \n",
    "    \n",
    "    TimeDF=pd.DataFrame(Time,columns=['Time'])\n",
    "    sea_surface_tempDF=pd.DataFrame(sea_surface_temp[:14368,u,v],columns=['sea_surface_temp'])\n",
    "    time_sst=pd.concat([TimeDF,sea_surface_tempDF],axis=1)\n",
    "    \n",
    "    \n",
    "    ## Finding 90 percentile for each lat,lon pair and storing in a list,further we will convert this list into 2d array \n",
    "    percentile_list=[]\n",
    "    for i in range(0,100):\n",
    "        for j in range(0,160):\n",
    "            percentile_list.append(np.percentile(dataset.sst[:14368,i,j].data,90))\n",
    "            \n",
    "            \n",
    "    nintey_percentile=np.array(percentile_list).reshape(100,160) #reshaping into original format\n",
    "    ## Hence we got the value of 90 percentile with the help of lat 40 year data for everylat lon pair(1981-2020)\n",
    "    \n",
    "    dataset21=xr.open_dataset(\"sst.day.mean.2021.nc\", engine=\"netcdf4\") ## SST data for 2021\n",
    "    \n",
    "    datasetsst21=dataset21.sst.sel(lon=slice(60,100),lat=slice(0,25)) ##Indian Ocean Slicing\n",
    "    \n",
    "    ## marking boolean for all sst greater then 90 percentile\n",
    "    x=[]\n",
    "    for k in range(len(datasetsst21.time.data)):\n",
    "        x.append(np.greater(datasetsst21[k].data,nintey_percentile))\n",
    "        \n",
    "    ## converting 2d list into 3d array and bool into binary(1,0)\n",
    "    logic_mhw=np.array(x).astype(int)\n",
    "    \n",
    "    ## creating a dataArray with bool\n",
    "    logic_mhw_xr=xr.DataArray(logic_mhw, coords=[(\"time\",datasetsst21.time.data),(\"lat\", Latitude), (\"lon\", Longitude)])\n",
    "    \n",
    "    ## converting in time series\n",
    "    new_table=pd.concat([pd.DataFrame(logic_mhw_xr.time.data,columns=['Time']),pd.DataFrame(logic_mhw[:,0,0],columns=['logic_mhw'])],axis=1)\n",
    "    new_table['logic_mhw'].value_counts() ## value greater then 5 henve there is chance of detecting mhw\n",
    "    \n",
    "    new_table.plot(x='Time',y='logic_mhw',kind='line')"
   ]
  },
  {
   "cell_type": "code",
   "execution_count": 4,
   "id": "a8f529be",
   "metadata": {},
   "outputs": [
    {
     "data": {
      "image/png": "[encoded data removed]",
      "text/plain": [
       "<Figure size 432x288 with 1 Axes>"
      ]
     },
     "metadata": {
      "needs_background": "light"
     },
     "output_type": "display_data"
    }
   ],
   "source": [
    "mhw(0,0)"
   ]
  },
  {
   "cell_type": "code",
   "execution_count": null,
   "id": "73d4326f",
   "metadata": {},
   "outputs": [],
   "source": []
  },
  {
   "cell_type": "code",
   "execution_count": null,
   "id": "4e869591",
   "metadata": {},
   "outputs": [],
   "source": []
  }
 ],
 "metadata": {
  "kernelspec": {
   "display_name": "Python 3 (ipykernel)",
   "language": "python",
   "name": "python3"
  },
  "language_info": {
   "codemirror_mode": {
    "name": "ipython",
    "version": 3
   },
   "file_extension": ".py",
   "mimetype": "text/x-python",
   "name": "python",
   "nbconvert_exporter": "python",
   "pygments_lexer": "ipython3",
   "version": "3.9.7"
  }
 },
 "nbformat": 4,
 "nbformat_minor": 5
}
