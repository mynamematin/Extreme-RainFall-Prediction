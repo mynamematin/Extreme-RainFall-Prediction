{
 "cells": [
  {
   "cell_type": "code",
   "execution_count": 2,
   "id": "95ea29e2",
   "metadata": {},
   "outputs": [],
   "source": [
    "##importing necessary libraries for computation and analysis\n",
    "\n",
    "import numpy as np\n",
    "import pandas as pd\n",
    "import xarray as xr\n",
    "import netCDF4 as nc\n",
    "import matplotlib.pyplot as plt\n",
    "import warnings\n",
    "warnings.filterwarnings('ignore')\n",
    "import time"
   ]
  },
  {
   "cell_type": "code",
   "execution_count": 3,
   "id": "99086c45",
   "metadata": {},
   "outputs": [],
   "source": [
    "##storing dataset in a variable\n",
    "dataset = xr.open_dataset(\"sst40yearmean.nc\")\n",
    "ds = xr.open_dataset(\"sst.day.mean.2021.nc\")\n",
    "Time=ds.sst.time.data\n",
    "Latitude=dataset.sst.lat.data     #1D\n",
    "Longitude=dataset.sst.lon.data"
   ]
  },
  {
   "cell_type": "code",
   "execution_count": 4,
   "id": "2298d913",
   "metadata": {},
   "outputs": [],
   "source": [
    "ds_40=dataset.sel(time=~((dataset.time.dt.month == 2) & (dataset.time.dt.day == 29)))\n"
   ]
  },
  {
   "cell_type": "code",
   "execution_count": 5,
   "id": "4dad1d12",
   "metadata": {},
   "outputs": [],
   "source": [
    "## Calculation of 90 percentile for entire year\n",
    "\n",
    "l=[]\n",
    "for i in range(1,366):\n",
    "    percentile=ds_40.where((ds_40.time.dt.dayofyear == i)).quantile(0.9,dim='time',skipna=True)\n",
    "    l.append(percentile.sst.data)\n"
   ]
  },
  {
   "cell_type": "code",
   "execution_count": 6,
   "id": "cab8e403",
   "metadata": {},
   "outputs": [
    {
     "name": "stdout",
     "output_type": "stream",
     "text": [
      "rm: cannot remove 'percentile40.nc': No such file or directory\r\n"
     ]
    }
   ],
   "source": [
    "!rm percentile40.nc"
   ]
  },
  {
   "cell_type": "code",
   "execution_count": 7,
   "id": "e54b3058",
   "metadata": {},
   "outputs": [],
   "source": [
    "#Converting list into array\n",
    "percentile=np.array(l)\n",
    "##Converting array into Xarray\n",
    "percentile90=xr.DataArray(percentile, coords=[Time, Latitude, Longitude], dims=[\"time\", \"lat\", \"lon\"])\n",
    "\n",
    "percentile90.to_netcdf(\"percentile40.nc\")"
   ]
  },
  {
   "cell_type": "code",
   "execution_count": null,
   "id": "c9c6e6b4",
   "metadata": {},
   "outputs": [],
   "source": []
  }
 ],
 "metadata": {
  "kernelspec": {
   "display_name": "Python 3 (ipykernel)",
   "language": "python",
   "name": "python3"
  },
  "language_info": {
   "codemirror_mode": {
    "name": "ipython",
    "version": 3
   },
   "file_extension": ".py",
   "mimetype": "text/x-python",
   "name": "python",
   "nbconvert_exporter": "python",
   "pygments_lexer": "ipython3",
   "version": "3.9.12"
  }
 },
 "nbformat": 4,
 "nbformat_minor": 5
}
