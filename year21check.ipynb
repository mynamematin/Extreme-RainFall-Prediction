{
 "cells": [
  {
   "cell_type": "code",
   "execution_count": 1,
   "id": "0743b6b1",
   "metadata": {},
   "outputs": [],
   "source": [
    "!rm jjas40.nc\n",
    "!rm Percentilejjas.nc\n",
    "!rm Percentilejjas2.nc"
   ]
  },
  {
   "cell_type": "code",
   "execution_count": 2,
   "id": "abe6ef47",
   "metadata": {},
   "outputs": [],
   "source": [
    "import cdo\n",
    "import xarray as xr\n",
    "import numpy as np\n",
    "import matplotlib as plt"
   ]
  },
  {
   "cell_type": "code",
   "execution_count": 3,
   "id": "334d4945",
   "metadata": {},
   "outputs": [
    {
     "name": "stdout",
     "output_type": "stream",
     "text": [
      "cdo select: Processed 126489600 values from 1 variable over 365 timesteps [2.57s 129MB]\r\n"
     ]
    }
   ],
   "source": [
    "!cdo -select,season=JJAS sst.day.mean.2021.nc jjas40.nc"
   ]
  },
  {
   "cell_type": "code",
   "execution_count": 4,
   "id": "fa091390",
   "metadata": {},
   "outputs": [],
   "source": [
    "sst=xr.open_dataset(\"/home/matin/project/major/code/verification/jjas40.nc\")\n",
    "sst_40=sst.sst"
   ]
  },
  {
   "cell_type": "code",
   "execution_count": 5,
   "id": "8fa319b4",
   "metadata": {},
   "outputs": [
    {
     "name": "stdout",
     "output_type": "stream",
     "text": [
      "cdo select: Processed 2440000 values from 1 variable over 365 timesteps [0.04s 130MB]\r\n"
     ]
    }
   ],
   "source": [
    "!cdo -select,season=JJAS percentile40.nc Percentilejjas.nc"
   ]
  },
  {
   "cell_type": "code",
   "execution_count": 6,
   "id": "7b3ee94a",
   "metadata": {},
   "outputs": [],
   "source": [
    "Prcntl_jjas= xr.open_dataset(\"/home/matin/project/major/code/verification/Percentilejjas.nc\")\n",
    "ds=Prcntl_jjas.assign_coords({'time':Prcntl_jjas.time.dt.dayofyear})\n",
    "ds.to_netcdf(\"Percentilejjas2.nc\")\n",
    "\n",
    "Prcntl_jjas2= xr.open_dataset(\"/home/matin/project/major/code/verification/Percentilejjas2.nc\")"
   ]
  },
  {
   "cell_type": "code",
   "execution_count": 7,
   "id": "7c91a2ce",
   "metadata": {},
   "outputs": [],
   "source": [
    "dataset=sst_40.assign_coords({'time':Prcntl_jjas.time.dt.dayofyear})\n",
    "dataset.to_netcdf(\"dataset.nc\")"
   ]
  },
  {
   "cell_type": "code",
   "execution_count": 8,
   "id": "a59e377e",
   "metadata": {},
   "outputs": [],
   "source": [
    "dataset2=dataset.sel(lon=slice(50,100),lat=slice(0,25))\n",
    "dataset2.to_netcdf(\"dataset2.nc\")"
   ]
  },
  {
   "cell_type": "code",
   "execution_count": 9,
   "id": "67aa7a8d",
   "metadata": {},
   "outputs": [
    {
     "name": "stdout",
     "output_type": "stream",
     "text": [
      "Warning (splitTimevalue): Reset wrong date/time to 0000-01-01 00:00:00!\n",
      "Warning (splitTimevalue): Reset wrong date/time to 0000-01-01 00:00:00!\n"
     ]
    }
   ],
   "source": [
    "!rm change.nc\n",
    "!rm logic.nc\n",
    "!cdo -s sub dataset2.nc Percentilejjas2.nc change.nc  \n",
    "!cdo -s gt dataset2.nc Percentilejjas2.nc logic.nc "
   ]
  },
  {
   "cell_type": "code",
   "execution_count": 10,
   "id": "78fa34c5",
   "metadata": {},
   "outputs": [],
   "source": [
    "change=xr.open_dataset(\"/home/matin/project/major/code/verification/change.nc\")\n",
    "change=change.assign_coords({'time':Prcntl_jjas.time.dt.dayofyear})\n",
    "ch=change.sst[4:]"
   ]
  },
  {
   "cell_type": "code",
   "execution_count": 11,
   "id": "2a69c5dc",
   "metadata": {},
   "outputs": [],
   "source": [
    "logic=xr.open_dataset(\"/home/matin/project/major/code/verification/logic.nc\")\n",
    "logic=logic.assign_coords({'time':Prcntl_jjas.time.dt.dayofyear})\n",
    "lo=logic.sst[4:]"
   ]
  },
  {
   "cell_type": "code",
   "execution_count": 12,
   "id": "a9164794",
   "metadata": {},
   "outputs": [],
   "source": [
    "\n",
    "l=[]\n",
    "for i in range(0,118):\n",
    "    five_days=logic.sst[i:i+5].sum('time',skipna=False)\n",
    "    l.append(xr.where(five_days<5,0,five_days).data)\n",
    "fivexr6=xr.DataArray(np.array(l), coords=[(\"time\",logic.time.data[4:]),(\"lat\", logic.lat.data), (\"lon\", logic.lon.data)])\n",
    "\n",
    "fivexr61=xr.where(fivexr6==5,1,fivexr6)\n",
    "\n",
    "\n",
    "m=[]\n",
    "for i in range(0,118):\n",
    "    a=fivexr61[i:i+2].sum(\"time\",skipna=False)\n",
    "    m.append(xr.where(a>1,0,a).data)\n",
    "fivexr62=xr.DataArray(np.array(m), coords=[(\"time\",logic.time.data[4:]),(\"lat\", logic.lat.data), (\"lon\", logic.lon.data)])\n",
    "\n",
    "\n",
    "frqyr21=fivexr62.sum(\"time\",skipna=False)\n",
    "iyr21=xr.where(fivexr61==1,ch,fivexr61).sum(\"time\",skipna=False)\n"
   ]
  },
  {
   "cell_type": "code",
   "execution_count": 13,
   "id": "1a9047ad",
   "metadata": {},
   "outputs": [
    {
     "data": {
      "text/plain": [
       "<matplotlib.contour.QuadContourSet at 0x7f963c685730>"
      ]
     },
     "execution_count": 13,
     "metadata": {},
     "output_type": "execute_result"
    },
    {
     "data": {
      "image/png": "[encoded data removed]",
      "text/plain": [
       "<Figure size 432x288 with 2 Axes>"
      ]
     },
     "metadata": {
      "needs_background": "light"
     },
     "output_type": "display_data"
    }
   ],
   "source": [
    "intensity=xr.where(fivexr61==1,ch,fivexr61).sum(\"time\",skipna=False)\n",
    "intensity.plot.contourf()"
   ]
  },
  {
   "cell_type": "code",
   "execution_count": 17,
   "id": "729c87d3",
   "metadata": {},
   "outputs": [
    {
     "data": {
      "text/plain": [
       "<matplotlib.contour.QuadContourSet at 0x7f963bc70820>"
      ]
     },
     "execution_count": 17,
     "metadata": {},
     "output_type": "execute_result"
    },
    {
     "data": {
      "image/png": "[encoded data removed]",
      "text/plain": [
       "<Figure size 432x288 with 2 Axes>"
      ]
     },
     "metadata": {
      "needs_background": "light"
     },
     "output_type": "display_data"
    }
   ],
   "source": [
    "frequency=xr.where(frqyr21%2==0,frqyr21//2,(frqyr21+1)/2)\n",
    "frequency.plot.contourf()"
   ]
  },
  {
   "cell_type": "code",
   "execution_count": 18,
   "id": "cf39ebe4",
   "metadata": {},
   "outputs": [
    {
     "data": {
      "text/html": [
       "<div><svg style=\"position: absolute; width: 0; height: 0; overflow: hidden\">\n",
       "<defs>\n",
       "<symbol id=\"icon-database\" viewBox=\"0 0 32 32\">\n",
       "<path d=\"M16 0c-8.837 0-16 2.239-16 5v4c0 2.761 7.163 5 16 5s16-2.239 16-5v-4c0-2.761-7.163-5-16-5z\"></path>\n",
       "<path d=\"M16 17c-8.837 0-16-2.239-16-5v6c0 2.761 7.163 5 16 5s16-2.239 16-5v-6c0 2.761-7.163 5-16 5z\"></path>\n",
       "<path d=\"M16 26c-8.837 0-16-2.239-16-5v6c0 2.761 7.163 5 16 5s16-2.239 16-5v-6c0 2.761-7.163 5-16 5z\"></path>\n",
       "</symbol>\n",
       "<symbol id=\"icon-file-text2\" viewBox=\"0 0 32 32\">\n",
       "<path d=\"M28.681 7.159c-0.694-0.947-1.662-2.053-2.724-3.116s-2.169-2.030-3.116-2.724c-1.612-1.182-2.393-1.319-2.841-1.319h-15.5c-1.378 0-2.5 1.121-2.5 2.5v27c0 1.378 1.122 2.5 2.5 2.5h23c1.378 0 2.5-1.122 2.5-2.5v-19.5c0-0.448-0.137-1.23-1.319-2.841zM24.543 5.457c0.959 0.959 1.712 1.825 2.268 2.543h-4.811v-4.811c0.718 0.556 1.584 1.309 2.543 2.268zM28 29.5c0 0.271-0.229 0.5-0.5 0.5h-23c-0.271 0-0.5-0.229-0.5-0.5v-27c0-0.271 0.229-0.5 0.5-0.5 0 0 15.499-0 15.5 0v7c0 0.552 0.448 1 1 1h7v19.5z\"></path>\n",
       "<path d=\"M23 26h-14c-0.552 0-1-0.448-1-1s0.448-1 1-1h14c0.552 0 1 0.448 1 1s-0.448 1-1 1z\"></path>\n",
       "<path d=\"M23 22h-14c-0.552 0-1-0.448-1-1s0.448-1 1-1h14c0.552 0 1 0.448 1 1s-0.448 1-1 1z\"></path>\n",
       "<path d=\"M23 18h-14c-0.552 0-1-0.448-1-1s0.448-1 1-1h14c0.552 0 1 0.448 1 1s-0.448 1-1 1z\"></path>\n",
       "</symbol>\n",
       "</defs>\n",
       "</svg>\n",
       "<style>/* CSS stylesheet for displaying xarray objects in jupyterlab.\n",
       " *\n",
       " */\n",
       "\n",
       ":root {\n",
       "  --xr-font-color0: var(--jp-content-font-color0, rgba(0, 0, 0, 1));\n",
       "  --xr-font-color2: var(--jp-content-font-color2, rgba(0, 0, 0, 0.54));\n",
       "  --xr-font-color3: var(--jp-content-font-color3, rgba(0, 0, 0, 0.38));\n",
       "  --xr-border-color: var(--jp-border-color2, #e0e0e0);\n",
       "  --xr-disabled-color: var(--jp-layout-color3, #bdbdbd);\n",
       "  --xr-background-color: var(--jp-layout-color0, white);\n",
       "  --xr-background-color-row-even: var(--jp-layout-color1, white);\n",
       "  --xr-background-color-row-odd: var(--jp-layout-color2, #eeeeee);\n",
       "}\n",
       "\n",
       "html[theme=dark],\n",
       "body.vscode-dark {\n",
       "  --xr-font-color0: rgba(255, 255, 255, 1);\n",
       "  --xr-font-color2: rgba(255, 255, 255, 0.54);\n",
       "  --xr-font-color3: rgba(255, 255, 255, 0.38);\n",
       "  --xr-border-color: #1F1F1F;\n",
       "  --xr-disabled-color: #515151;\n",
       "  --xr-background-color: #111111;\n",
       "  --xr-background-color-row-even: #111111;\n",
       "  --xr-background-color-row-odd: #313131;\n",
       "}\n",
       "\n",
       ".xr-wrap {\n",
       "  display: block;\n",
       "  min-width: 300px;\n",
       "  max-width: 700px;\n",
       "}\n",
       "\n",
       ".xr-text-repr-fallback {\n",
       "  /* fallback to plain text repr when CSS is not injected (untrusted notebook) */\n",
       "  display: none;\n",
       "}\n",
       "\n",
       ".xr-header {\n",
       "  padding-top: 6px;\n",
       "  padding-bottom: 6px;\n",
       "  margin-bottom: 4px;\n",
       "  border-bottom: solid 1px var(--xr-border-color);\n",
       "}\n",
       "\n",
       ".xr-header > div,\n",
       ".xr-header > ul {\n",
       "  display: inline;\n",
       "  margin-top: 0;\n",
       "  margin-bottom: 0;\n",
       "}\n",
       "\n",
       ".xr-obj-type,\n",
       ".xr-array-name {\n",
       "  margin-left: 2px;\n",
       "  margin-right: 10px;\n",
       "}\n",
       "\n",
       ".xr-obj-type {\n",
       "  color: var(--xr-font-color2);\n",
       "}\n",
       "\n",
       ".xr-sections {\n",
       "  padding-left: 0 !important;\n",
       "  display: grid;\n",
       "  grid-template-columns: 150px auto auto 1fr 20px 20px;\n",
       "}\n",
       "\n",
       ".xr-section-item {\n",
       "  display: contents;\n",
       "}\n",
       "\n",
       ".xr-section-item input {\n",
       "  display: none;\n",
       "}\n",
       "\n",
       ".xr-section-item input + label {\n",
       "  color: var(--xr-disabled-color);\n",
       "}\n",
       "\n",
       ".xr-section-item input:enabled + label {\n",
       "  cursor: pointer;\n",
       "  color: var(--xr-font-color2);\n",
       "}\n",
       "\n",
       ".xr-section-item input:enabled + label:hover {\n",
       "  color: var(--xr-font-color0);\n",
       "}\n",
       "\n",
       ".xr-section-summary {\n",
       "  grid-column: 1;\n",
       "  color: var(--xr-font-color2);\n",
       "  font-weight: 500;\n",
       "}\n",
       "\n",
       ".xr-section-summary > span {\n",
       "  display: inline-block;\n",
       "  padding-left: 0.5em;\n",
       "}\n",
       "\n",
       ".xr-section-summary-in:disabled + label {\n",
       "  color: var(--xr-font-color2);\n",
       "}\n",
       "\n",
       ".xr-section-summary-in + label:before {\n",
       "  display: inline-block;\n",
       "  content: '►';\n",
       "  font-size: 11px;\n",
       "  width: 15px;\n",
       "  text-align: center;\n",
       "}\n",
       "\n",
       ".xr-section-summary-in:disabled + label:before {\n",
       "  color: var(--xr-disabled-color);\n",
       "}\n",
       "\n",
       ".xr-section-summary-in:checked + label:before {\n",
       "  content: '▼';\n",
       "}\n",
       "\n",
       ".xr-section-summary-in:checked + label > span {\n",
       "  display: none;\n",
       "}\n",
       "\n",
       ".xr-section-summary,\n",
       ".xr-section-inline-details {\n",
       "  padding-top: 4px;\n",
       "  padding-bottom: 4px;\n",
       "}\n",
       "\n",
       ".xr-section-inline-details {\n",
       "  grid-column: 2 / -1;\n",
       "}\n",
       "\n",
       ".xr-section-details {\n",
       "  display: none;\n",
       "  grid-column: 1 / -1;\n",
       "  margin-bottom: 5px;\n",
       "}\n",
       "\n",
       ".xr-section-summary-in:checked ~ .xr-section-details {\n",
       "  display: contents;\n",
       "}\n",
       "\n",
       ".xr-array-wrap {\n",
       "  grid-column: 1 / -1;\n",
       "  display: grid;\n",
       "  grid-template-columns: 20px auto;\n",
       "}\n",
       "\n",
       ".xr-array-wrap > label {\n",
       "  grid-column: 1;\n",
       "  vertical-align: top;\n",
       "}\n",
       "\n",
       ".xr-preview {\n",
       "  color: var(--xr-font-color3);\n",
       "}\n",
       "\n",
       ".xr-array-preview,\n",
       ".xr-array-data {\n",
       "  padding: 0 5px !important;\n",
       "  grid-column: 2;\n",
       "}\n",
       "\n",
       ".xr-array-data,\n",
       ".xr-array-in:checked ~ .xr-array-preview {\n",
       "  display: none;\n",
       "}\n",
       "\n",
       ".xr-array-in:checked ~ .xr-array-data,\n",
       ".xr-array-preview {\n",
       "  display: inline-block;\n",
       "}\n",
       "\n",
       ".xr-dim-list {\n",
       "  display: inline-block !important;\n",
       "  list-style: none;\n",
       "  padding: 0 !important;\n",
       "  margin: 0;\n",
       "}\n",
       "\n",
       ".xr-dim-list li {\n",
       "  display: inline-block;\n",
       "  padding: 0;\n",
       "  margin: 0;\n",
       "}\n",
       "\n",
       ".xr-dim-list:before {\n",
       "  content: '(';\n",
       "}\n",
       "\n",
       ".xr-dim-list:after {\n",
       "  content: ')';\n",
       "}\n",
       "\n",
       ".xr-dim-list li:not(:last-child):after {\n",
       "  content: ',';\n",
       "  padding-right: 5px;\n",
       "}\n",
       "\n",
       ".xr-has-index {\n",
       "  font-weight: bold;\n",
       "}\n",
       "\n",
       ".xr-var-list,\n",
       ".xr-var-item {\n",
       "  display: contents;\n",
       "}\n",
       "\n",
       ".xr-var-item > div,\n",
       ".xr-var-item label,\n",
       ".xr-var-item > .xr-var-name span {\n",
       "  background-color: var(--xr-background-color-row-even);\n",
       "  margin-bottom: 0;\n",
       "}\n",
       "\n",
       ".xr-var-item > .xr-var-name:hover span {\n",
       "  padding-right: 5px;\n",
       "}\n",
       "\n",
       ".xr-var-list > li:nth-child(odd) > div,\n",
       ".xr-var-list > li:nth-child(odd) > label,\n",
       ".xr-var-list > li:nth-child(odd) > .xr-var-name span {\n",
       "  background-color: var(--xr-background-color-row-odd);\n",
       "}\n",
       "\n",
       ".xr-var-name {\n",
       "  grid-column: 1;\n",
       "}\n",
       "\n",
       ".xr-var-dims {\n",
       "  grid-column: 2;\n",
       "}\n",
       "\n",
       ".xr-var-dtype {\n",
       "  grid-column: 3;\n",
       "  text-align: right;\n",
       "  color: var(--xr-font-color2);\n",
       "}\n",
       "\n",
       ".xr-var-preview {\n",
       "  grid-column: 4;\n",
       "}\n",
       "\n",
       ".xr-var-name,\n",
       ".xr-var-dims,\n",
       ".xr-var-dtype,\n",
       ".xr-preview,\n",
       ".xr-attrs dt {\n",
       "  white-space: nowrap;\n",
       "  overflow: hidden;\n",
       "  text-overflow: ellipsis;\n",
       "  padding-right: 10px;\n",
       "}\n",
       "\n",
       ".xr-var-name:hover,\n",
       ".xr-var-dims:hover,\n",
       ".xr-var-dtype:hover,\n",
       ".xr-attrs dt:hover {\n",
       "  overflow: visible;\n",
       "  width: auto;\n",
       "  z-index: 1;\n",
       "}\n",
       "\n",
       ".xr-var-attrs,\n",
       ".xr-var-data {\n",
       "  display: none;\n",
       "  background-color: var(--xr-background-color) !important;\n",
       "  padding-bottom: 5px !important;\n",
       "}\n",
       "\n",
       ".xr-var-attrs-in:checked ~ .xr-var-attrs,\n",
       ".xr-var-data-in:checked ~ .xr-var-data {\n",
       "  display: block;\n",
       "}\n",
       "\n",
       ".xr-var-data > table {\n",
       "  float: right;\n",
       "}\n",
       "\n",
       ".xr-var-name span,\n",
       ".xr-var-data,\n",
       ".xr-attrs {\n",
       "  padding-left: 25px !important;\n",
       "}\n",
       "\n",
       ".xr-attrs,\n",
       ".xr-var-attrs,\n",
       ".xr-var-data {\n",
       "  grid-column: 1 / -1;\n",
       "}\n",
       "\n",
       "dl.xr-attrs {\n",
       "  padding: 0;\n",
       "  margin: 0;\n",
       "  display: grid;\n",
       "  grid-template-columns: 125px auto;\n",
       "}\n",
       "\n",
       ".xr-attrs dt,\n",
       ".xr-attrs dd {\n",
       "  padding: 0;\n",
       "  margin: 0;\n",
       "  float: left;\n",
       "  padding-right: 10px;\n",
       "  width: auto;\n",
       "}\n",
       "\n",
       ".xr-attrs dt {\n",
       "  font-weight: normal;\n",
       "  grid-column: 1;\n",
       "}\n",
       "\n",
       ".xr-attrs dt:hover span {\n",
       "  display: inline-block;\n",
       "  background: var(--xr-background-color);\n",
       "  padding-right: 10px;\n",
       "}\n",
       "\n",
       ".xr-attrs dd {\n",
       "  grid-column: 2;\n",
       "  white-space: pre-wrap;\n",
       "  word-break: break-all;\n",
       "}\n",
       "\n",
       ".xr-icon-database,\n",
       ".xr-icon-file-text2 {\n",
       "  display: inline-block;\n",
       "  vertical-align: middle;\n",
       "  width: 1em;\n",
       "  height: 1.5em !important;\n",
       "  stroke-width: 0;\n",
       "  stroke: currentColor;\n",
       "  fill: currentColor;\n",
       "}\n",
       "</style><pre class='xr-text-repr-fallback'>&lt;xarray.DataArray ()&gt;\n",
       "array(8., dtype=float32)\n",
       "Coordinates:\n",
       "    lat      float32 14.62\n",
       "    lon      float32 93.62</pre><div class='xr-wrap' hidden><div class='xr-header'><div class='xr-obj-type'>xarray.DataArray</div><div class='xr-array-name'></div></div><ul class='xr-sections'><li class='xr-section-item'><div class='xr-array-wrap'><input id='section-559c8d97-9a7f-48d8-8217-c885fe568693' class='xr-array-in' type='checkbox' checked><label for='section-559c8d97-9a7f-48d8-8217-c885fe568693' title='Show/hide data repr'><svg class='icon xr-icon-database'><use xlink:href='#icon-database'></use></svg></label><div class='xr-array-preview xr-preview'><span>8.0</span></div><div class='xr-array-data'><pre>array(8., dtype=float32)</pre></div></div></li><li class='xr-section-item'><input id='section-1e56ecf6-7cca-4c43-ba71-c043a1e6f61b' class='xr-section-summary-in' type='checkbox'  checked><label for='section-1e56ecf6-7cca-4c43-ba71-c043a1e6f61b' class='xr-section-summary' >Coordinates: <span>(2)</span></label><div class='xr-section-inline-details'></div><div class='xr-section-details'><ul class='xr-var-list'><li class='xr-var-item'><div class='xr-var-name'><span>lat</span></div><div class='xr-var-dims'>()</div><div class='xr-var-dtype'>float32</div><div class='xr-var-preview xr-preview'>14.62</div><input id='attrs-7766c542-5a1c-4975-8bd4-10d33cea3d92' class='xr-var-attrs-in' type='checkbox' disabled><label for='attrs-7766c542-5a1c-4975-8bd4-10d33cea3d92' title='Show/Hide attributes'><svg class='icon xr-icon-file-text2'><use xlink:href='#icon-file-text2'></use></svg></label><input id='data-46a6388b-f6e6-40e3-a357-ce9ed8af8ac7' class='xr-var-data-in' type='checkbox'><label for='data-46a6388b-f6e6-40e3-a357-ce9ed8af8ac7' title='Show/Hide data repr'><svg class='icon xr-icon-database'><use xlink:href='#icon-database'></use></svg></label><div class='xr-var-attrs'><dl class='xr-attrs'></dl></div><div class='xr-var-data'><pre>array(14.625, dtype=float32)</pre></div></li><li class='xr-var-item'><div class='xr-var-name'><span>lon</span></div><div class='xr-var-dims'>()</div><div class='xr-var-dtype'>float32</div><div class='xr-var-preview xr-preview'>93.62</div><input id='attrs-d02170dd-c7b0-4245-9f17-5c4d7f57176b' class='xr-var-attrs-in' type='checkbox' disabled><label for='attrs-d02170dd-c7b0-4245-9f17-5c4d7f57176b' title='Show/Hide attributes'><svg class='icon xr-icon-file-text2'><use xlink:href='#icon-file-text2'></use></svg></label><input id='data-cb06996f-8ca1-476a-aa19-bbc02f7692f5' class='xr-var-data-in' type='checkbox'><label for='data-cb06996f-8ca1-476a-aa19-bbc02f7692f5' title='Show/Hide data repr'><svg class='icon xr-icon-database'><use xlink:href='#icon-database'></use></svg></label><div class='xr-var-attrs'><dl class='xr-attrs'></dl></div><div class='xr-var-data'><pre>array(93.625, dtype=float32)</pre></div></li></ul></div></li><li class='xr-section-item'><input id='section-cf6e300c-9b2d-4f7b-846c-d69f9e45138c' class='xr-section-summary-in' type='checkbox' disabled ><label for='section-cf6e300c-9b2d-4f7b-846c-d69f9e45138c' class='xr-section-summary'  title='Expand/collapse section'>Attributes: <span>(0)</span></label><div class='xr-section-inline-details'></div><div class='xr-section-details'><dl class='xr-attrs'></dl></div></li></ul></div></div>"
      ],
      "text/plain": [
       "<xarray.DataArray ()>\n",
       "array(8., dtype=float32)\n",
       "Coordinates:\n",
       "    lat      float32 14.62\n",
       "    lon      float32 93.62"
      ]
     },
     "execution_count": 18,
     "metadata": {},
     "output_type": "execute_result"
    }
   ],
   "source": [
    "frequency.where(frequency==frequency.max(), drop=True).squeeze()"
   ]
  },
  {
   "cell_type": "code",
   "execution_count": 20,
   "id": "599b674f",
   "metadata": {},
   "outputs": [],
   "source": [
    "dataset=xr.open_dataset(\"sst.day.mean.2021.nc\")\n",
    "percentile90=xr.open_dataset(\"percentile40.nc\")"
   ]
  },
  {
   "cell_type": "code",
   "execution_count": 22,
   "id": "f90fbab3",
   "metadata": {},
   "outputs": [],
   "source": [
    "import pandas as pd"
   ]
  },
  {
   "cell_type": "code",
   "execution_count": 25,
   "id": "94d931de",
   "metadata": {},
   "outputs": [
    {
     "data": {
      "text/html": [
       "<div>\n",
       "<style scoped>\n",
       "    .dataframe tbody tr th:only-of-type {\n",
       "        vertical-align: middle;\n",
       "    }\n",
       "\n",
       "    .dataframe tbody tr th {\n",
       "        vertical-align: top;\n",
       "    }\n",
       "\n",
       "    .dataframe thead th {\n",
       "        text-align: right;\n",
       "    }\n",
       "</style>\n",
       "<table border=\"1\" class=\"dataframe\">\n",
       "  <thead>\n",
       "    <tr style=\"text-align: right;\">\n",
       "      <th></th>\n",
       "      <th>SST</th>\n",
       "      <th>90percentile</th>\n",
       "    </tr>\n",
       "  </thead>\n",
       "  <tbody>\n",
       "    <tr>\n",
       "      <th>2021-01-01</th>\n",
       "      <td>28.730000</td>\n",
       "      <td>NaN</td>\n",
       "    </tr>\n",
       "    <tr>\n",
       "      <th>2021-01-02</th>\n",
       "      <td>28.889999</td>\n",
       "      <td>NaN</td>\n",
       "    </tr>\n",
       "    <tr>\n",
       "      <th>2021-01-03</th>\n",
       "      <td>28.849998</td>\n",
       "      <td>NaN</td>\n",
       "    </tr>\n",
       "    <tr>\n",
       "      <th>2021-01-04</th>\n",
       "      <td>28.590000</td>\n",
       "      <td>NaN</td>\n",
       "    </tr>\n",
       "    <tr>\n",
       "      <th>2021-01-05</th>\n",
       "      <td>28.599998</td>\n",
       "      <td>NaN</td>\n",
       "    </tr>\n",
       "    <tr>\n",
       "      <th>...</th>\n",
       "      <td>...</td>\n",
       "      <td>...</td>\n",
       "    </tr>\n",
       "    <tr>\n",
       "      <th>2021-12-27</th>\n",
       "      <td>27.510000</td>\n",
       "      <td>28.496454</td>\n",
       "    </tr>\n",
       "    <tr>\n",
       "      <th>2021-12-28</th>\n",
       "      <td>27.650000</td>\n",
       "      <td>28.462272</td>\n",
       "    </tr>\n",
       "    <tr>\n",
       "      <th>2021-12-29</th>\n",
       "      <td>27.869999</td>\n",
       "      <td>28.431999</td>\n",
       "    </tr>\n",
       "    <tr>\n",
       "      <th>2021-12-30</th>\n",
       "      <td>27.969999</td>\n",
       "      <td>28.401727</td>\n",
       "    </tr>\n",
       "    <tr>\n",
       "      <th>2021-12-31</th>\n",
       "      <td>27.879999</td>\n",
       "      <td>28.389908</td>\n",
       "    </tr>\n",
       "  </tbody>\n",
       "</table>\n",
       "<p>365 rows × 2 columns</p>\n",
       "</div>"
      ],
      "text/plain": [
       "                  SST  90percentile\n",
       "2021-01-01  28.730000           NaN\n",
       "2021-01-02  28.889999           NaN\n",
       "2021-01-03  28.849998           NaN\n",
       "2021-01-04  28.590000           NaN\n",
       "2021-01-05  28.599998           NaN\n",
       "...               ...           ...\n",
       "2021-12-27  27.510000     28.496454\n",
       "2021-12-28  27.650000     28.462272\n",
       "2021-12-29  27.869999     28.431999\n",
       "2021-12-30  27.969999     28.401727\n",
       "2021-12-31  27.879999     28.389908\n",
       "\n",
       "[365 rows x 2 columns]"
      ]
     },
     "execution_count": 25,
     "metadata": {},
     "output_type": "execute_result"
    }
   ],
   "source": [
    "##Converting Xarray Data into DataFrames and Concatening them\n",
    "dataset2=dataset.sel(lon=slice(50,100),lat=slice(0,25))\n",
    "rolling_mean=percentile90.rolling(time=11).mean()\n",
    "SST=pd.DataFrame(dataset2.sst[:,58,174].astype(np.float32).data,index=pd.date_range(\"2021-01-01\", periods=365),columns=['SST'])\n",
    "NiNtypercentile=pd.DataFrame(rolling_mean.__xarray_dataarray_variable__[:,58,174].data,index=pd.date_range(\"2021-01-01\", periods=365),columns=['90percentile'])\n",
    "\n",
    "df=pd.concat([SST,NiNtypercentile],axis=1)\n",
    "df"
   ]
  },
  {
   "cell_type": "code",
   "execution_count": 26,
   "id": "74cee804",
   "metadata": {},
   "outputs": [
    {
     "data": {
      "text/plain": [
       "<AxesSubplot:>"
      ]
     },
     "execution_count": 26,
     "metadata": {},
     "output_type": "execute_result"
    },
    {
     "data": {
      "image/png": "[encoded data removed]",
      "text/plain": [
       "<Figure size 432x288 with 1 Axes>"
      ]
     },
     "metadata": {
      "needs_background": "light"
     },
     "output_type": "display_data"
    }
   ],
   "source": [
    "df['SST'].plot()\n",
    "df['90percentile'].plot()"
   ]
  },
  {
   "cell_type": "code",
   "execution_count": null,
   "id": "bf9478f7",
   "metadata": {},
   "outputs": [],
   "source": []
  }
 ],
 "metadata": {
  "kernelspec": {
   "display_name": "Python 3 (ipykernel)",
   "language": "python",
   "name": "python3"
  },
  "language_info": {
   "codemirror_mode": {
    "name": "ipython",
    "version": 3
   },
   "file_extension": ".py",
   "mimetype": "text/x-python",
   "name": "python",
   "nbconvert_exporter": "python",
   "pygments_lexer": "ipython3",
   "version": "3.9.12"
  }
 },
 "nbformat": 4,
 "nbformat_minor": 5
}
